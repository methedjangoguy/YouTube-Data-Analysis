{
 "cells": [
  {
   "cell_type": "code",
   "execution_count": null,
   "id": "96182341",
   "metadata": {},
   "outputs": [],
   "source": [
    "import seaborn as sns\n",
    "import pandas as pd\n",
    "from googleapiclient.discovery import build\n",
    "import warnings\n",
    "warnings.filterwarnings('ignore')"
   ]
  },
  {
   "cell_type": "code",
   "execution_count": null,
   "id": "197dbe8e",
   "metadata": {},
   "outputs": [],
   "source": [
    "apiKey = 'Your API KEY'\n",
    "channelIDList = [\"Your channel ID List\"]\n",
    "channelID = ','.join(channelIDList)\n",
    "youtube = build('youtube','v3',developerKey=apiKey)\n",
    "print(channelID)"
   ]
  },
  {
   "attachments": {},
   "cell_type": "markdown",
   "id": "c2b0cba9",
   "metadata": {},
   "source": [
    "### # function to get youtube channel statistics."
   ]
  },
  {
   "cell_type": "code",
   "execution_count": null,
   "id": "c5cb9b70",
   "metadata": {},
   "outputs": [],
   "source": [
    "\n",
    "def getchannelStats(cID):\n",
    "    dataframe = []\n",
    "    request = request = youtube.channels().list(\n",
    "        part='snippet,contentDetails,statistics',\n",
    "        id=channelID,\n",
    "    )\n",
    "    response  = request.execute()\n",
    "    try:\n",
    "      for i in range(len(response['items'])):\n",
    "          data = dict(\n",
    "          ChannelName = response['items'][i]['snippet']['title'],\n",
    "          Subscribers = response['items'][i]['statistics']['subscriberCount'],\n",
    "          Views = response['items'][i]['statistics']['viewCount'],\n",
    "          Videos = response['items'][i]['statistics']['videoCount'],\n",
    "          PlaylistID = response['items'][i]['contentDetails']['relatedPlaylists']['uploads'],\n",
    "          # ChannelID = response['items'][i]['id'],\n",
    "          Description = response['items'][i]['snippet']['description']\n",
    "          )\n",
    "          dataframe.append(data)\n",
    "      return dataframe\n",
    "    except Exception as e:\n",
    "        return f'Some error occured due to {e}'"
   ]
  },
  {
   "cell_type": "code",
   "execution_count": null,
   "id": "7bcbcfac",
   "metadata": {},
   "outputs": [],
   "source": [
    "archivedata = getchannelStats(channelID)\n",
    "archive = pd.DataFrame(archivedata)\n",
    "archive"
   ]
  },
  {
   "cell_type": "code",
   "execution_count": null,
   "id": "da8e81de",
   "metadata": {},
   "outputs": [],
   "source": [
    "archive.dtypes"
   ]
  },
  {
   "cell_type": "code",
   "execution_count": null,
   "id": "5a57f512",
   "metadata": {},
   "outputs": [],
   "source": [
    "archive['Subscribers'] = pd.to_numeric(archive['Subscribers'])\n",
    "archive['Videos'] = pd.to_numeric(archive['Videos'])\n",
    "archive['Views'] = pd.to_numeric(archive['Views'])\n",
    "archive.dtypes"
   ]
  },
  {
   "cell_type": "code",
   "execution_count": null,
   "id": "c7b70b90",
   "metadata": {},
   "outputs": [],
   "source": [
    "sns.set(rc={'figure.figsize':(20,10)})\n",
    "ax = sns.barplot(x='ChannelName', y ='Subscribers', data= archive)"
   ]
  },
  {
   "cell_type": "code",
   "execution_count": null,
   "id": "0c0c2fcf",
   "metadata": {},
   "outputs": [],
   "source": [
    "sns.set(rc={'figure.figsize':(20,5)})\n",
    "ax = sns.barplot(x='ChannelName', y ='Views', data= archive)"
   ]
  },
  {
   "cell_type": "code",
   "execution_count": null,
   "metadata": {},
   "outputs": [],
   "source": [
    "sns.set(rc={'figure.figsize':(20,10)})\n",
    "ax = sns.barplot(x='ChannelName', y ='Videos', data= archive)"
   ]
  },
  {
   "cell_type": "code",
   "execution_count": null,
   "id": "8848323d",
   "metadata": {},
   "outputs": [],
   "source": [
    "archive"
   ]
  },
  {
   "cell_type": "code",
   "execution_count": null,
   "id": "83bdcaa0",
   "metadata": {},
   "outputs": [],
   "source": [
    "playlistid = archive.loc[archive['ChannelName']=='<Channel Name>','PlaylistID'].iloc[0]\n",
    "playlistid"
   ]
  },
  {
   "attachments": {},
   "cell_type": "markdown",
   "id": "b718a844",
   "metadata": {},
   "source": [
    "### function to get a specific channel's video IDs."
   ]
  },
  {
   "cell_type": "code",
   "execution_count": null,
   "id": "af475e71",
   "metadata": {},
   "outputs": [],
   "source": [
    "def getvideoids(playlistid):\n",
    "  request = youtube.playlistItems().list(\n",
    "        part='contentDetails',\n",
    "        playlistId=playlistid,\n",
    "        maxResults = 50\n",
    "    )\n",
    "  response = request.execute()\n",
    "  videoids = []\n",
    "  for i in range(len(response['items'])):\n",
    "        videoids.append(response['items'][i]['contentDetails']['videoId'])\n",
    "\n",
    "  nextpagetoken = response.get('nextPageToken')\n",
    "  morepages = True\n",
    "  while morepages:\n",
    "    if nextpagetoken is None:\n",
    "      morepages = False\n",
    "    else:\n",
    "      request = youtube.playlistItems().list(\n",
    "        part='contentDetails',\n",
    "        playlistId=playlistid,\n",
    "        maxResults = 50,\n",
    "        pageToken=nextpagetoken\n",
    "      )\n",
    "      response = request.execute()\n",
    "      for i in range(len(response['items'])):\n",
    "        videoids.append(response['items'][i]['contentDetails']['videoId'])\n",
    "\n",
    "      nextpagetoken = response.get('nextPageToken')\n",
    "\n",
    "  return videoids\n",
    "  "
   ]
  },
  {
   "cell_type": "code",
   "execution_count": null,
   "id": "24e9952e",
   "metadata": {},
   "outputs": [],
   "source": [
    "videIDs = getvideoids(playlistid)\n",
    "len(videIDs)\n"
   ]
  },
  {
   "attachments": {},
   "cell_type": "markdown",
   "id": "68ccff02",
   "metadata": {},
   "source": [
    "### function to get a specific channel's video details based on video ID."
   ]
  },
  {
   "cell_type": "code",
   "execution_count": null,
   "id": "42ab30fa",
   "metadata": {},
   "outputs": [],
   "source": [
    "def getvideodetails(videIDs):\n",
    "    videoStats = []\n",
    "    for i in range(0,len(videIDs),50):\n",
    "        request = youtube.videos().list(\n",
    "            part = 'snippet,statistics',\n",
    "            id = ','.join(videIDs[i:i+50])\n",
    "        )\n",
    "        response = request.execute()\n",
    "        for video in response['items']:\n",
    "            videoinfo = dict(\n",
    "                Title = video['snippet']['title'],\n",
    "                PublishedDate = video['snippet']['publishedAt'],\n",
    "                ViewCount = video['statistics']['viewCount'],\n",
    "                LikeCount = video['statistics']['likeCount'],\n",
    "                # DislikeCount = video['statistics']['dislikeCount'],\n",
    "                CommentCount = video['statistics']['commentCount']\n",
    "            )\n",
    "            videoStats.append(videoinfo)\n",
    "    return videoStats"
   ]
  },
  {
   "cell_type": "code",
   "execution_count": null,
   "id": "ec3cca7a",
   "metadata": {},
   "outputs": [],
   "source": [
    "videodetails = getvideodetails(videIDs)\n",
    "videodata = pd.DataFrame(videodetails)\n",
    "videodata"
   ]
  },
  {
   "cell_type": "code",
   "execution_count": null,
   "id": "0c35a1bc",
   "metadata": {},
   "outputs": [],
   "source": [
    "videodata['PublishedDate'] = pd.to_datetime(videodata['PublishedDate']).dt.date\n",
    "videodata['ViewCount'] = pd.to_numeric(videodata['ViewCount'])\n",
    "videodata['LikeCount'] = pd.to_numeric(videodata['LikeCount'])\n",
    "videodata['CommentCount'] = pd.to_numeric(videodata['CommentCount'])\n",
    "videodata"
   ]
  },
  {
   "cell_type": "code",
   "execution_count": null,
   "id": "f244d500",
   "metadata": {},
   "outputs": [],
   "source": [
    "top10videos = videodata.sort_values(by='ViewCount', ascending=False).head(10)\n",
    "top10videos"
   ]
  },
  {
   "cell_type": "code",
   "execution_count": null,
   "id": "86da9f86",
   "metadata": {},
   "outputs": [],
   "source": [
    "ax1 = sns.barplot(x='ViewCount',y='Title',data=top10videos)"
   ]
  },
  {
   "cell_type": "code",
   "execution_count": null,
   "id": "a41e4539",
   "metadata": {},
   "outputs": [],
   "source": [
    "videodata"
   ]
  },
  {
   "cell_type": "code",
   "execution_count": null,
   "id": "95002c55",
   "metadata": {},
   "outputs": [],
   "source": [
    "videodata['Month'] = pd.to_datetime(videodata['PublishedDate']).dt.strftime(\"%b\")"
   ]
  },
  {
   "cell_type": "code",
   "execution_count": null,
   "id": "822e8aa7",
   "metadata": {},
   "outputs": [],
   "source": [
    "videodata"
   ]
  },
  {
   "cell_type": "code",
   "execution_count": null,
   "id": "d36f8b72",
   "metadata": {},
   "outputs": [],
   "source": [
    "vidoespermonth = videodata.groupby('Month',as_index=False).size()\n",
    "vidoespermonth"
   ]
  },
  {
   "cell_type": "code",
   "execution_count": null,
   "id": "02e4efb4",
   "metadata": {},
   "outputs": [],
   "source": [
    "sortorder = ['Jan','Feb','Mar','Apr','May','Jun','Jul','Aug','Sep','Oct','Nov','Dec']"
   ]
  },
  {
   "cell_type": "code",
   "execution_count": null,
   "id": "428487f1",
   "metadata": {},
   "outputs": [],
   "source": [
    "vidoespermonth.index = pd.CategoricalIndex(vidoespermonth['Month'],categories=sortorder, ordered=True)\n",
    "vidoespermonth = vidoespermonth.sort_index()\n",
    "vidoespermonth"
   ]
  },
  {
   "cell_type": "code",
   "execution_count": null,
   "id": "839f9645",
   "metadata": {},
   "outputs": [],
   "source": [
    "ax2 = sns.barplot(x='Month',y ='size',data=vidoespermonth)"
   ]
  },
  {
   "cell_type": "code",
   "execution_count": null,
   "id": "f8f70e14",
   "metadata": {},
   "outputs": [],
   "source": [
    "videodata"
   ]
  }
 ],
 "metadata": {
  "kernelspec": {
   "display_name": "Python 3 (ipykernel)",
   "language": "python",
   "name": "python3"
  },
  "language_info": {
   "codemirror_mode": {
    "name": "ipython",
    "version": 3
   },
   "file_extension": ".py",
   "mimetype": "text/x-python",
   "name": "python",
   "nbconvert_exporter": "python",
   "pygments_lexer": "ipython3",
   "version": "3.11.2"
  }
 },
 "nbformat": 4,
 "nbformat_minor": 5
}
